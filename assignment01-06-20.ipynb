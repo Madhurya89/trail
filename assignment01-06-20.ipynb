{
  "nbformat": 4,
  "nbformat_minor": 0,
  "metadata": {
    "colab": {
      "name": "numpy.ipynb",
      "provenance": [],
      "collapsed_sections": []
    },
    "kernelspec": {
      "name": "python3",
      "display_name": "Python 3"
    }
  },
  "cells": [
    {
      "cell_type": "markdown",
      "metadata": {
        "id": "aEe4OJy2lVLy",
        "colab_type": "text"
      },
      "source": [
        "[2D Array Creation] \n",
        "Write a NumPy program to create a 3x3 matrix with values ranging from 2 to 10."
      ]
    },
    {
      "cell_type": "code",
      "metadata": {
        "id": "diBMHy8vlZlG",
        "colab_type": "code",
        "outputId": "b55755af-ca2c-4076-fecf-9b0e75f5e15a",
        "colab": {
          "base_uri": "https://localhost:8080/",
          "height": 68
        }
      },
      "source": [
        "import numpy as np\n",
        "list1=[[2,3,4],[5,6,7],[8,9,10]]\n",
        "arr=np.array(list1)\n",
        "print(arr)"
      ],
      "execution_count": 0,
      "outputs": [
        {
          "output_type": "stream",
          "text": [
            "[[ 2  3  4]\n",
            " [ 5  6  7]\n",
            " [ 8  9 10]]\n"
          ],
          "name": "stdout"
        }
      ]
    },
    {
      "cell_type": "markdown",
      "metadata": {
        "id": "G2cwjKRqsInE",
        "colab_type": "text"
      },
      "source": [
        "[1D Array Creation] \n",
        "Write a NumPy program to create an array with values ranging from 12 to 38.\n"
      ]
    },
    {
      "cell_type": "markdown",
      "metadata": {
        "id": "6bfn3RiBsQPk",
        "colab_type": "text"
      },
      "source": [
        "a1 = np.arange(12,38)\n",
        "print(a1)\n"
      ]
    },
    {
      "cell_type": "code",
      "metadata": {
        "id": "4gYCkoVAAeGU",
        "colab_type": "code",
        "outputId": "0dc430f1-637b-4954-d893-71488d9ff065",
        "colab": {
          "base_uri": "https://localhost:8080/",
          "height": 34
        }
      },
      "source": [
        "import numpy as np\n",
        "list1=[1,2,3,4,5]\n",
        "a=np.array(list1)\n",
        "print(a)"
      ],
      "execution_count": 0,
      "outputs": [
        {
          "output_type": "stream",
          "text": [
            "[1 2 3 4 5]\n"
          ],
          "name": "stdout"
        }
      ]
    },
    {
      "cell_type": "code",
      "metadata": {
        "id": "4y7BDMTEITby",
        "colab_type": "code",
        "outputId": "1eb0d92d-c815-4618-84e5-62b623961742",
        "colab": {
          "base_uri": "https://localhost:8080/",
          "height": 51
        }
      },
      "source": [
        "a1 = np.arange(12,38)\n",
        "print(a1)\n"
      ],
      "execution_count": 0,
      "outputs": [
        {
          "output_type": "stream",
          "text": [
            "[12 13 14 15 16 17 18 19 20 21 22 23 24 25 26 27 28 29 30 31 32 33 34 35\n",
            " 36 37]\n"
          ],
          "name": "stdout"
        }
      ]
    },
    {
      "cell_type": "markdown",
      "metadata": {
        "id": "q6piIgd2tyyk",
        "colab_type": "text"
      },
      "source": [
        "[Reversing an Array] \n",
        "Write a NumPy program to reverse an array (first element becomes last). Original array:\n",
        "[12 13 14 15 16 17 18 19 20 21 22 23 24 25 26 27 28 29 30 31 32 33 34 35 36 37]\n",
        "Reverse array:\n",
        "[37 36 35 34 33 32 31 30 29 28 27 26 25 24 23 22 21 20 19 18 17 16 15 14 13 12]\n"
      ]
    },
    {
      "cell_type": "code",
      "metadata": {
        "id": "CYP-zrBHuBES",
        "colab_type": "code",
        "outputId": "57bed4f9-0b80-4f53-b633-c878fbe5f7d7",
        "colab": {
          "base_uri": "https://localhost:8080/",
          "height": 68
        }
      },
      "source": [
        "a1 = np.arange(12,38)\n",
        "print(a1)\n",
        "a2=list(reversed(a1))\n",
        "print(a2)"
      ],
      "execution_count": 0,
      "outputs": [
        {
          "output_type": "stream",
          "text": [
            "[12 13 14 15 16 17 18 19 20 21 22 23 24 25 26 27 28 29 30 31 32 33 34 35\n",
            " 36 37]\n",
            "[37, 36, 35, 34, 33, 32, 31, 30, 29, 28, 27, 26, 25, 24, 23, 22, 21, 20, 19, 18, 17, 16, 15, 14, 13, 12]\n"
          ],
          "name": "stdout"
        }
      ]
    },
    {
      "cell_type": "markdown",
      "metadata": {
        "id": "vD_tvpjHxChw",
        "colab_type": "text"
      },
      "source": [
        "[Make Border 1] \n",
        "Write a NumPy program to create a 2d array with 1 on the border and 0 inside.\n"
      ]
    },
    {
      "cell_type": "code",
      "metadata": {
        "id": "f9H5_5dzxFTP",
        "colab_type": "code",
        "outputId": "13d1129c-147c-436e-dacf-a8b20adff1a6",
        "colab": {
          "base_uri": "https://localhost:8080/",
          "height": 221
        }
      },
      "source": [
        "import numpy as np\n",
        "x = np.ones((5,5))\n",
        "print(\"Original array:\")\n",
        "print(x)\n",
        "print(\"1 on the border and 0 inside in the array\")\n",
        "x[1:-1,1:-1] = 0\n",
        "print(x)\n"
      ],
      "execution_count": 0,
      "outputs": [
        {
          "output_type": "stream",
          "text": [
            "Original array:\n",
            "[[1. 1. 1. 1. 1.]\n",
            " [1. 1. 1. 1. 1.]\n",
            " [1. 1. 1. 1. 1.]\n",
            " [1. 1. 1. 1. 1.]\n",
            " [1. 1. 1. 1. 1.]]\n",
            "1 on the border and 0 inside in the array\n",
            "[[1. 1. 1. 1. 1.]\n",
            " [1. 0. 0. 0. 1.]\n",
            " [1. 0. 0. 0. 1.]\n",
            " [1. 0. 0. 0. 1.]\n",
            " [1. 1. 1. 1. 1.]]\n"
          ],
          "name": "stdout"
        }
      ]
    },
    {
      "cell_type": "markdown",
      "metadata": {
        "id": "0-jHmHAaxiy4",
        "colab_type": "text"
      },
      "source": [
        "[Add border zero] "
      ]
    },
    {
      "cell_type": "code",
      "metadata": {
        "id": "E8ThvQncxkYS",
        "colab_type": "code",
        "outputId": "0af6a9ae-638b-4e74-9530-9ab221a1b701",
        "colab": {
          "base_uri": "https://localhost:8080/",
          "height": 187
        }
      },
      "source": [
        "import numpy as np\n",
        "x = np.ones((3,3))\n",
        "print(\"Original array:\")\n",
        "print(x)\n",
        "print(\"0 on the border and 1 inside in the array\")\n",
        "x = np.pad(x, pad_width=1, mode='constant', constant_values=0)\n",
        "print(x)"
      ],
      "execution_count": 0,
      "outputs": [
        {
          "output_type": "stream",
          "text": [
            "Original array:\n",
            "[[1. 1. 1.]\n",
            " [1. 1. 1.]\n",
            " [1. 1. 1.]]\n",
            "0 on the border and 1 inside in the array\n",
            "[[0. 0. 0. 0. 0.]\n",
            " [0. 1. 1. 1. 0.]\n",
            " [0. 1. 1. 1. 0.]\n",
            " [0. 1. 1. 1. 0.]\n",
            " [0. 0. 0. 0. 0.]]\n"
          ],
          "name": "stdout"
        }
      ]
    },
    {
      "cell_type": "markdown",
      "metadata": {
        "id": "ev63YFYKyAUH",
        "colab_type": "text"
      },
      "source": [
        "[ChekerBoard Pattern] \n",
        "Write a NumPy program to create a 8x8 matrix and fill it with a checkerboard pattern.\n",
        "Checkerboard pattern:\n",
        "[[0 1 0 1 0 1 0 1]\n",
        "..........\n",
        "[0 1 0 1 0 1 0 1]\n",
        "[1 0 1 0 1 0 1 0]]\n"
      ]
    },
    {
      "cell_type": "code",
      "metadata": {
        "id": "314Oql4I055q",
        "colab_type": "code",
        "outputId": "433692d4-676d-4f95-a308-38191e2c23e9",
        "colab": {
          "base_uri": "https://localhost:8080/",
          "height": 170
        }
      },
      "source": [
        "import numpy as np\n",
        "x = np.ones((3,3))\n",
        "print(\"Checkerboard pattern:\")\n",
        "x = np.zeros((8,8),dtype=int)\n",
        "x[1::2,::2] = 1\n",
        "x[::2,1::2] = 1\n",
        "print(x)\n"
      ],
      "execution_count": 0,
      "outputs": [
        {
          "output_type": "stream",
          "text": [
            "Checkerboard pattern:\n",
            "[[0 1 0 1 0 1 0 1]\n",
            " [1 0 1 0 1 0 1 0]\n",
            " [0 1 0 1 0 1 0 1]\n",
            " [1 0 1 0 1 0 1 0]\n",
            " [0 1 0 1 0 1 0 1]\n",
            " [1 0 1 0 1 0 1 0]\n",
            " [0 1 0 1 0 1 0 1]\n",
            " [1 0 1 0 1 0 1 0]]\n"
          ],
          "name": "stdout"
        }
      ]
    },
    {
      "cell_type": "markdown",
      "metadata": {
        "id": "I9odupsp1HMR",
        "colab_type": "text"
      },
      "source": [
        "[Centigrade2Fahrenheit] \n",
        "Write a NumPy program to convert the values of Centigrade degrees into Fahrenheit degrees. Centigrade values are stored into a NumPy array.\n",
        "Sample Array [0, 12, 45.21 ,34, 99.91]\n"
      ]
    },
    {
      "cell_type": "code",
      "metadata": {
        "id": "ZhaHl6GB1pcG",
        "colab_type": "code",
        "outputId": "63ab7538-c1ff-4837-979f-16d8430e39ec",
        "colab": {
          "base_uri": "https://localhost:8080/",
          "height": 85
        }
      },
      "source": [
        "import numpy as np\n",
        "fvalues = [0, 12, 45.21, 34, 99.91]\n",
        "F = np.array(fvalues)\n",
        "print(\"Values in Fahrenheit degrees:\")\n",
        "print(F)\n",
        "print(\"Values in  Centigrade degrees:\") \n",
        "print(5*F/9 - 5*32/9)\n"
      ],
      "execution_count": 0,
      "outputs": [
        {
          "output_type": "stream",
          "text": [
            "Values in Fahrenheit degrees:\n",
            "[ 0.   12.   45.21 34.   99.91]\n",
            "Values in  Centigrade degrees:\n",
            "[-17.77777778 -11.11111111   7.33888889   1.11111111  37.72777778]\n"
          ],
          "name": "stdout"
        }
      ]
    },
    {
      "cell_type": "markdown",
      "metadata": {
        "id": "0zyOKMTc11nn",
        "colab_type": "text"
      },
      "source": [
        "[Membership Test] \n",
        "Write a NumPy program to test whether each element of a 1-D array is also present in a second array.\n"
      ]
    },
    {
      "cell_type": "code",
      "metadata": {
        "id": "t7tmNIeG2Q6X",
        "colab_type": "code",
        "outputId": "717d1368-e53e-482b-8adb-34960d75f16b",
        "colab": {
          "base_uri": "https://localhost:8080/",
          "height": 85
        }
      },
      "source": [
        "import numpy as np\n",
        "array1 = np.array([0, 10, 20, 40, 60])\n",
        "print(\"Array1: \",array1)\n",
        "array2 = [0, 40]\n",
        "print(\"Array2: \",array2)\n",
        "print(\"Compare each element of array1 and array2\")\n",
        "print(np.in1d(array1, array2))\n"
      ],
      "execution_count": 0,
      "outputs": [
        {
          "output_type": "stream",
          "text": [
            "Array1:  [ 0 10 20 40 60]\n",
            "Array2:  [0, 40]\n",
            "Compare each element of array1 and array2\n",
            "[ True False False  True False]\n"
          ],
          "name": "stdout"
        }
      ]
    },
    {
      "cell_type": "markdown",
      "metadata": {
        "id": "KgtFORgL2ee5",
        "colab_type": "text"
      },
      "source": [
        "[Set Difference] \n",
        "Write a NumPy program to find the set difference of two arrays. The set difference will return the sorted, unique values in array1 that are not in array2.\n"
      ]
    },
    {
      "cell_type": "code",
      "metadata": {
        "id": "cZrzGYac2gRn",
        "colab_type": "code",
        "outputId": "a6085012-05a7-4393-8b1b-b973e3e330a5",
        "colab": {
          "base_uri": "https://localhost:8080/",
          "height": 85
        }
      },
      "source": [
        "import numpy as np\n",
        "array1 = np.array([0, 10, 20, 40, 60, 80])\n",
        "print(\"Array1: \",array1)\n",
        "array2 = [10, 30, 40, 50, 70]\n",
        "print(\"Array2: \",array2)\n",
        "print(\"Unique values in array1 that are not in array2:\")\n",
        "print(np.setdiff1d(array1, array2))\n"
      ],
      "execution_count": 0,
      "outputs": [
        {
          "output_type": "stream",
          "text": [
            "Array1:  [ 0 10 20 40 60 80]\n",
            "Array2:  [10, 30, 40, 50, 70]\n",
            "Unique values in array1 that are not in array2:\n",
            "[ 0 20 60 80]\n"
          ],
          "name": "stdout"
        }
      ]
    },
    {
      "cell_type": "markdown",
      "metadata": {
        "id": "FRGsqE-h4F04",
        "colab_type": "text"
      },
      "source": [
        "[SymmetricDifference] \n",
        "Write a NumPy program to find the set exclusive-or of two arrays. Set exclusive-or will return the sorted, unique values that are in only one (not both) of the input arrays.\n",
        "Array1: [ 0 10 20 40 60 80]\n",
        "Array2: [10, 30, 40, 50, 70]\n",
        "Unique values that are in only one (not both) of the input arrays:\n",
        "[ 0 20 30 50 60 70 80]\n"
      ]
    },
    {
      "cell_type": "code",
      "metadata": {
        "id": "kWh3KQJs4HMo",
        "colab_type": "code",
        "outputId": "debeb6a9-9b6c-4eff-ce4b-a01522a29e1a",
        "colab": {
          "base_uri": "https://localhost:8080/",
          "height": 85
        }
      },
      "source": [
        "import numpy as np\n",
        "array1 = np.array([0, 10, 20, 40, 60, 80])\n",
        "print(\"Array1: \",array1)\n",
        "array2 = [10, 30, 40, 50, 70]\n",
        "print(\"Array2: \",array2)\n",
        "print(\"Unique values that are in only one (not both) of the input arrays:\")\n",
        "print(np.setxor1d(array1, array2))\n"
      ],
      "execution_count": 0,
      "outputs": [
        {
          "output_type": "stream",
          "text": [
            "Array1:  [ 0 10 20 40 60 80]\n",
            "Array2:  [10, 30, 40, 50, 70]\n",
            "Unique values that are in only one (not both) of the input arrays:\n",
            "[ 0 20 30 50 60 70 80]\n"
          ],
          "name": "stdout"
        }
      ]
    },
    {
      "cell_type": "markdown",
      "metadata": {
        "id": "MbEGdzWJ44Az",
        "colab_type": "text"
      },
      "source": [
        "[Array Comparison Operators] \n",
        "Write a NumPy program to compare two given arrays.\n",
        "Array a: [1 2]\n",
        "Array b: [4 5]\n",
        "a > b\n",
        "[False False]\n",
        "a >= b\n",
        "[False False]\n",
        "a < b\n",
        "[ True True]\n",
        "a <= b\n",
        "[ True True]\n"
      ]
    },
    {
      "cell_type": "code",
      "metadata": {
        "id": "8Hv7TOto5iTS",
        "colab_type": "code",
        "outputId": "ec9cd657-375d-4eec-a1cc-efd384dbd8f3",
        "colab": {
          "base_uri": "https://localhost:8080/",
          "height": 187
        }
      },
      "source": [
        "import numpy as np\n",
        "a = np.array([1, 2])\n",
        "b = np.array([4, 5])\n",
        "print(\"Array a: \",a)\n",
        "print(\"Array b: \",b)\n",
        "print(\"a > b\")\n",
        "print(np.greater(a, b))\n",
        "print(\"a >= b\")\n",
        "print(np.greater_equal(a, b))\n",
        "print(\"a < b\")\n",
        "print(np.less(a, b))\n",
        "print(\"a <= b\")\n",
        "print(np.less_equal(a, b))\n"
      ],
      "execution_count": 0,
      "outputs": [
        {
          "output_type": "stream",
          "text": [
            "Array a:  [1 2]\n",
            "Array b:  [4 5]\n",
            "a > b\n",
            "[False False]\n",
            "a >= b\n",
            "[False False]\n",
            "a < b\n",
            "[ True  True]\n",
            "a <= b\n",
            "[ True  True]\n"
          ],
          "name": "stdout"
        }
      ]
    },
    {
      "cell_type": "markdown",
      "metadata": {
        "id": "eiptcTBO5ytd",
        "colab_type": "text"
      },
      "source": [
        "[Array2TxtFile] \n",
        "Write a NumPy program to save a NumPy array to a text file.\n"
      ]
    },
    {
      "cell_type": "code",
      "metadata": {
        "id": "5DEJ5aIw50gw",
        "colab_type": "code",
        "colab": {}
      },
      "source": [
        "import numpy as np\n",
        "a = np.arange(1.0, 2.0, 36.2)\n",
        "np.savetxt('file.out', a, delimiter=',')\n"
      ],
      "execution_count": 0,
      "outputs": []
    },
    {
      "cell_type": "markdown",
      "metadata": {
        "id": "Ai1wrhfD6v5G",
        "colab_type": "text"
      },
      "source": [
        "[toMultidimension] \n",
        "Write a NumPy program to change the dimension of an array.\n",
        "Expected Output:\n",
        "9 rows and 0 columns\n",
        "(9,)\n",
        "(3, 3) -> 3 rows and 3 columns\n",
        "[[1 2 3]\n",
        "[4 5 6]\n",
        "[7 8 9]]\n",
        "Change array shape to (3, 3) -> 3 rows and 3 columns\n",
        "[[1 2 3]\n",
        "[4 5 6]\n",
        "[7 8 9]]\n"
      ]
    },
    {
      "cell_type": "code",
      "metadata": {
        "id": "FyWlmtXa6yMa",
        "colab_type": "code",
        "outputId": "7beaebd7-cb1b-4b69-946a-9b0a0a624056",
        "colab": {
          "base_uri": "https://localhost:8080/",
          "height": 187
        }
      },
      "source": [
        "import numpy as np\n",
        "x = np.array([1, 2, 3, 4, 5, 6,7,8,9])\n",
        "print(\"9 rows and 0 columns\")\n",
        "print(x.shape)\n",
        "\n",
        "y = np.array([[1, 2, 3],[4, 5, 6],[7,8,9]])\n",
        "print(\"(3, 3) -> 3 rows and 3 columns \")\n",
        "print(y)\n",
        "\n",
        "x = np.array([1,2,3,4,5,6,7,8,9])\n",
        "print(\"Change array shape to (3, 3) -> 3 rows and 3 columns \")\n",
        "x.shape = (3, 3)\n",
        "print(x)\n"
      ],
      "execution_count": 0,
      "outputs": [
        {
          "output_type": "stream",
          "text": [
            "9 rows and 0 columns\n",
            "(9,)\n",
            "(3, 3) -> 3 rows and 3 columns \n",
            "[[1 2 3]\n",
            " [4 5 6]\n",
            " [7 8 9]]\n",
            "Change array shape to (3, 3) -> 3 rows and 3 columns \n",
            "[[1 2 3]\n",
            " [4 5 6]\n",
            " [7 8 9]]\n"
          ],
          "name": "stdout"
        }
      ]
    },
    {
      "cell_type": "markdown",
      "metadata": {
        "id": "7WSQSvr578Rj",
        "colab_type": "text"
      },
      "source": [
        "[Reshaper] \n",
        "Write a NumPy program to create a new shape to an array without changing its data.\n",
        "Reshape 3x2:\n",
        "[[1 2]\n",
        "[3 4]\n",
        "[5 6]]\n",
        "Reshape 2x3:\n",
        "[[1 2 3]\n",
        "[4 5 6]]\n"
      ]
    },
    {
      "cell_type": "code",
      "metadata": {
        "id": "pCqfc5Mo7-_5",
        "colab_type": "code",
        "outputId": "73a81bbf-4f7a-498f-fdbc-429a7d5f1da5",
        "colab": {
          "base_uri": "https://localhost:8080/",
          "height": 136
        }
      },
      "source": [
        "import numpy as np\n",
        "x = np.array([1, 2, 3, 4, 5, 6])\n",
        "y = np.reshape(x,(3,2))\n",
        "print(\"Reshape 3x2:\")\n",
        "print(y)\n",
        "z = np.reshape(x,(2,3))\n",
        "print(\"Reshape 2x3:\")\n",
        "print(z)\n"
      ],
      "execution_count": 0,
      "outputs": [
        {
          "output_type": "stream",
          "text": [
            "Reshape 3x2:\n",
            "[[1 2]\n",
            " [3 4]\n",
            " [5 6]]\n",
            "Reshape 2x3:\n",
            "[[1 2 3]\n",
            " [4 5 6]]\n"
          ],
          "name": "stdout"
        }
      ]
    },
    {
      "cell_type": "markdown",
      "metadata": {
        "id": "2tr6kMP381JU",
        "colab_type": "text"
      },
      "source": [
        "[Formation of Diagonal Matrix] \n",
        "Write a NumPy program to create a 2-D array whose diagonal equals [4, 5, 6, 8] and 0's elsewhere.\n"
      ]
    },
    {
      "cell_type": "code",
      "metadata": {
        "id": "GMywOBXX82EC",
        "colab_type": "code",
        "outputId": "10bc9b99-5c21-48b6-b46e-d2b701761181",
        "colab": {
          "base_uri": "https://localhost:8080/",
          "height": 85
        }
      },
      "source": [
        "import numpy as np\n",
        "x =  np.diagflat([4, 5, 6, 8])\n",
        "print(x)"
      ],
      "execution_count": 0,
      "outputs": [
        {
          "output_type": "stream",
          "text": [
            "[[4 0 0 0]\n",
            " [0 5 0 0]\n",
            " [0 0 6 0]\n",
            " [0 0 0 8]]\n"
          ],
          "name": "stdout"
        }
      ]
    },
    {
      "cell_type": "markdown",
      "metadata": {
        "id": "4_xvo-hI9gET",
        "colab_type": "text"
      },
      "source": [
        "[LinearLogSpace Data Generation] \n",
        "Write a NumPy program to create a 1-D array of 20 element spaced evenly on a log scale between 2. and 5., exclusive.\n"
      ]
    },
    {
      "cell_type": "code",
      "metadata": {
        "id": "H-vyKx7R9hTp",
        "colab_type": "code",
        "outputId": "c0021ffb-6e34-4681-b417-ae8b6a496247",
        "colab": {
          "base_uri": "https://localhost:8080/",
          "height": 102
        }
      },
      "source": [
        "import numpy as np\n",
        "x =  np.logspace(2., 5., 20, endpoint=False)\n",
        "print(x)\n"
      ],
      "execution_count": 0,
      "outputs": [
        {
          "output_type": "stream",
          "text": [
            "[  100.           141.25375446   199.5262315    281.83829313\n",
            "   398.10717055   562.34132519   794.32823472  1122.0184543\n",
            "  1584.89319246  2238.72113857  3162.27766017  4466.83592151\n",
            "  6309.5734448   8912.50938134 12589.25411794 17782.79410039\n",
            " 25118.8643151  35481.33892336 50118.72336273 70794.57843841]\n"
          ],
          "name": "stdout"
        }
      ]
    },
    {
      "cell_type": "markdown",
      "metadata": {
        "id": "XGz3o5PB-Gq3",
        "colab_type": "text"
      },
      "source": [
        "[Frequency Distribution] \n",
        "Write a NumPy program to count the frequency of unique values in NumPy array.\n",
        "Expected Output:\n",
        "Original array:\n",
        "[10 10 20 10 20 20 20 30 30 50 40 40]\n",
        "Frequency of unique values of the said array:\n",
        "[[10 20 30 40 50]\n",
        "[ 3 4 2 2 1]]\n"
      ]
    },
    {
      "cell_type": "code",
      "metadata": {
        "id": "RH6X53n7-H8t",
        "colab_type": "code",
        "outputId": "ed5fbae9-bbbe-4c9d-a28b-e802fe06dab5",
        "colab": {
          "base_uri": "https://localhost:8080/",
          "height": 102
        }
      },
      "source": [
        "import numpy as np\n",
        "a = np.array( [10,10,20,10,20,20,20,30, 30,50,40,40] )\n",
        "print(\"Original array:\")\n",
        "print(a)\n",
        "unique_elements, counts_elements = np.unique(a, return_counts=True)\n",
        "print(\"Frequency of unique values of the said array:\")\n",
        "print(np.asarray((unique_elements, counts_elements)))"
      ],
      "execution_count": 0,
      "outputs": [
        {
          "output_type": "stream",
          "text": [
            "Original array:\n",
            "[10 10 20 10 20 20 20 30 30 50 40 40]\n",
            "Frequency of unique values of the said array:\n",
            "[[10 20 30 40 50]\n",
            " [ 3  4  2  2  1]]\n"
          ],
          "name": "stdout"
        }
      ]
    },
    {
      "cell_type": "markdown",
      "metadata": {
        "id": "RhdfITiY-6XH",
        "colab_type": "text"
      },
      "source": [
        "[Array2CSV File] \n",
        "Write a NumPy program to convert a NumPy array into a CSV file.\n"
      ]
    },
    {
      "cell_type": "code",
      "metadata": {
        "id": "rKwlqhCY-7n3",
        "colab_type": "code",
        "colab": {}
      },
      "source": [
        "import numpy\n",
        "data = numpy.asarray([ [10,20,30], [40,50,60], [70,80,90] ])\n",
        "numpy.savetxt(\"test.csv\", data, delimiter=\",\")\n",
        "\n"
      ],
      "execution_count": 0,
      "outputs": []
    },
    {
      "cell_type": "markdown",
      "metadata": {
        "id": "2zZvTD-F_czC",
        "colab_type": "text"
      },
      "source": [
        "[CSV File to Array] \n",
        "Write a NumPy program to read a CSV data file and store records in an array.\n",
        "Sample CSV file: fdata.csv\n",
        "Date,Open,High,Low,Close\n",
        "03-10-16,774.25,776.065002,769.5,772.559998\n",
        ".................\n",
        "07-10-16,779.659973,779.659973,770.75,775.080017\n",
        "Sample Output:\n",
        "[(b'Date', nan, nan, nan, nan)\n",
        "(b'03-10-16', 774.25, 776.065, 769.5 , 772.56)\n",
        "......................\n",
        "(b'07-10-16', 779.66, 779.66 , 770.75, 775.08)]\n"
      ]
    },
    {
      "cell_type": "code",
      "metadata": {
        "id": "GDYWF2n4FU8k",
        "colab_type": "code",
        "colab": {}
      },
      "source": [
        "from numpy import genfromtxt\n",
        "csv_data = genfromtxt('fdata.csv', dtype=['S10','float32','float32','float32','float32'], delimiter=\",\")\n",
        "print(csv_data)\n"
      ],
      "execution_count": 0,
      "outputs": []
    },
    {
      "cell_type": "markdown",
      "metadata": {
        "id": "uT5sYc4AFri-",
        "colab_type": "text"
      },
      "source": [
        "[PILLOW2Array] \n",
        "Write a NumPy program to convert a PILLOW Image into a NumPy array.\n",
        "Sample Output:\n",
        "[[[255 255 255 0]\n",
        ".......\n",
        "[255 255 255 0]]]\n"
      ]
    },
    {
      "cell_type": "code",
      "metadata": {
        "id": "egGf_ntyFtRf",
        "colab_type": "code",
        "colab": {}
      },
      "source": [
        "import numpy as np\n",
        "import PIL\n",
        "img_data = PIL.Image.open('sample.png' )\n",
        "img_arr = np.array(img_data) \n",
        "print(img_arr)\n"
      ],
      "execution_count": 0,
      "outputs": []
    },
    {
      "cell_type": "markdown",
      "metadata": {
        "id": "jLmTZ-jnHKyK",
        "colab_type": "text"
      },
      "source": [
        "[Array2Image] \n",
        "Write a NumPy program to convert a NumPy array to an image. Display the image.\n"
      ]
    },
    {
      "cell_type": "code",
      "metadata": {
        "id": "_QNs90G5H8S9",
        "colab_type": "code",
        "colab": {}
      },
      "source": [
        "from PIL import Image\n",
        "import numpy as np\n",
        "img_w, img_h = 200, 200\n",
        "data = np.zeros((img_h, img_w, 3), dtype=np.uint8)\n",
        "data[100, 100] = [255, 0, 0]\n",
        "img = Image.fromarray(data, 'RGB')\n",
        "img.save('test.png')\n",
        "img.show()\n"
      ],
      "execution_count": 0,
      "outputs": []
    },
    {
      "cell_type": "markdown",
      "metadata": {
        "id": "48LUh6G6IalB",
        "colab_type": "text"
      },
      "source": [
        "[Clear NAN Values] \n",
        "Write a NumPy program to remove nan values from a given array.\n",
        "Sample Output:\n",
        "Original array:\n",
        "[200. 300. nan nan nan 700.]\n",
        "After removing nan values:\n",
        "[200. 300. 700.]\n",
        "Original array:\n",
        "[[ 1. 2. 3.]\n",
        "[nan 0. nan]\n",
        "[ 6. 7. nan]]\n",
        "After removing nan values:\n",
        "[1. 2. 3. 0. 6. 7.]\n"
      ]
    },
    {
      "cell_type": "code",
      "metadata": {
        "id": "BJGtXXrrIcvg",
        "colab_type": "code",
        "outputId": "fe53f750-b513-4c59-f1f8-9d06d26dd3aa",
        "colab": {
          "base_uri": "https://localhost:8080/",
          "height": 204
        }
      },
      "source": [
        "import numpy as np\n",
        "x = np.array([200, 300, np.nan, np.nan, np.nan ,700])\n",
        "y = np.array([[1, 2, 3], [np.nan, 0, np.nan] ,[6,7,np.nan]] )\n",
        "print(\"Original array:\")\n",
        "print(x)\n",
        "print(\"After removing nan values:\")\n",
        "result = x[np.logical_not(np.isnan(x))]\n",
        "print(result)\n",
        "print(\"\\nOriginal array:\")\n",
        "print(y)\n",
        "print(\"After removing nan values:\")\n",
        "result = y[np.logical_not(np.isnan(y))]\n",
        "print(result)\n"
      ],
      "execution_count": 0,
      "outputs": [
        {
          "output_type": "stream",
          "text": [
            "Original array:\n",
            "[200. 300.  nan  nan  nan 700.]\n",
            "After removing nan values:\n",
            "[200. 300. 700.]\n",
            "\n",
            "Original array:\n",
            "[[ 1.  2.  3.]\n",
            " [nan  0. nan]\n",
            " [ 6.  7. nan]]\n",
            "After removing nan values:\n",
            "[1. 2. 3. 0. 6. 7.]\n"
          ],
          "name": "stdout"
        }
      ]
    },
    {
      "cell_type": "markdown",
      "metadata": {
        "id": "CPKIlqa4Jd5k",
        "colab_type": "text"
      },
      "source": [
        "[CartesianProduct] \n",
        "Write a NumPy program to create a Cartesian product of two arrays into single array of 2D points.\n"
      ]
    },
    {
      "cell_type": "code",
      "metadata": {
        "id": "fIgaiQwzJfTg",
        "colab_type": "code",
        "outputId": "8e22d897-fb1d-4cae-a3c1-acaa844c1f15",
        "colab": {
          "base_uri": "https://localhost:8080/",
          "height": 119
        }
      },
      "source": [
        "\n",
        "import numpy as np\n",
        "x = np.array([1,2,3])\n",
        "y = np.array([4,5])\n",
        "result = np.transpose([np.tile(x, len(y)), np.repeat(y, len(x))])\n",
        "print(result)\n"
      ],
      "execution_count": 0,
      "outputs": [
        {
          "output_type": "stream",
          "text": [
            "[[1 4]\n",
            " [2 4]\n",
            " [3 4]\n",
            " [1 5]\n",
            " [2 5]\n",
            " [3 5]]\n"
          ],
          "name": "stdout"
        }
      ]
    },
    {
      "cell_type": "markdown",
      "metadata": {
        "id": "KDNYjzYxMjtw",
        "colab_type": "text"
      },
      "source": [
        "[Histogram] \n",
        "Write a NumPy program to compute the histogram of a set of data.\n"
      ]
    },
    {
      "cell_type": "code",
      "metadata": {
        "id": "CLwgr9HAMlIr",
        "colab_type": "code",
        "outputId": "583ed8c5-57cd-4b29-d833-473ca1be4443",
        "colab": {
          "base_uri": "https://localhost:8080/",
          "height": 265
        }
      },
      "source": [
        "import numpy as np    \n",
        "import matplotlib.pyplot as plt\n",
        "plt.hist([1, 2, 1], bins=[0, 1, 2, 3, 5])\n",
        "plt.show()\n"
      ],
      "execution_count": 0,
      "outputs": [
        {
          "output_type": "display_data",
          "data": {
            "image/png": "[encoded data removed]",
            "text/plain": [
              "<Figure size 432x288 with 1 Axes>"
            ]
          },
          "metadata": {
            "tags": [],
            "needs_background": "light"
          }
        }
      ]
    },
    {
      "cell_type": "markdown",
      "metadata": {
        "id": "d6knR_eyNWN4",
        "colab_type": "text"
      },
      "source": [
        "[Transpose] \n",
        "Write a NumPy program to rearrange the dimensions of a given array.\n",
        "Sample Output:\n",
        "Original arrays:\n",
        "[[ 0 1 2 3]\n",
        "...........\n",
        "[20 21 22 23]]\n",
        "After reverse the dimensions:\n",
        "[[ 0 4 8 12 16 20]\n",
        "............\n",
        "[ 3 7 11 15 19 23]]\n"
      ]
    },
    {
      "cell_type": "code",
      "metadata": {
        "id": "j1SCRs7DNXN3",
        "colab_type": "code",
        "outputId": "29b2768f-35bf-4286-e426-9c8d26f24e59",
        "colab": {
          "base_uri": "https://localhost:8080/",
          "height": 221
        }
      },
      "source": [
        "import numpy as np    \n",
        "x = np.arange(24).reshape((6,4))\n",
        "print(\"Original arrays:\")\n",
        "print(x)\n",
        "new_array = np.transpose(x)\n",
        "print(\"After reverse the dimensions:\")\n",
        "print(new_array)\n"
      ],
      "execution_count": 0,
      "outputs": [
        {
          "output_type": "stream",
          "text": [
            "Original arrays:\n",
            "[[ 0  1  2  3]\n",
            " [ 4  5  6  7]\n",
            " [ 8  9 10 11]\n",
            " [12 13 14 15]\n",
            " [16 17 18 19]\n",
            " [20 21 22 23]]\n",
            "After reverse the dimensions:\n",
            "[[ 0  4  8 12 16 20]\n",
            " [ 1  5  9 13 17 21]\n",
            " [ 2  6 10 14 18 22]\n",
            " [ 3  7 11 15 19 23]]\n"
          ],
          "name": "stdout"
        }
      ]
    },
    {
      "cell_type": "markdown",
      "metadata": {
        "id": "spDgtuR8POLQ",
        "colab_type": "text"
      },
      "source": [
        "[Swap Columns] \n",
        "Write a NumPy program to swap columns in a given array.\n",
        "Sample Output:\n",
        "Original array:\n",
        "[[ 0 1 2 3]\n",
        "[ 4 5 6 7]\n",
        "[\n"
      ]
    },
    {
      "cell_type": "code",
      "metadata": {
        "id": "t8zt82pgPPTS",
        "colab_type": "code",
        "outputId": "cb287874-429c-4ab8-f9fe-9ed115ddf6fb",
        "colab": {
          "base_uri": "https://localhost:8080/",
          "height": 170
        }
      },
      "source": [
        "import numpy as np\n",
        "my_array = np.arange(12).reshape(3, 4)\n",
        "print(\"Original array:\")\n",
        "print(my_array)\n",
        "my_array[:,[0, 1]] = my_array[:,[1, 0]]\n",
        "print(\"\\nAfter swapping arrays:\")\n",
        "print(my_array)\n"
      ],
      "execution_count": 0,
      "outputs": [
        {
          "output_type": "stream",
          "text": [
            "Original array:\n",
            "[[ 0  1  2  3]\n",
            " [ 4  5  6  7]\n",
            " [ 8  9 10 11]]\n",
            "\n",
            "After swapping arrays:\n",
            "[[ 1  0  2  3]\n",
            " [ 5  4  6  7]\n",
            " [ 9  8 10 11]]\n"
          ],
          "name": "stdout"
        }
      ]
    },
    {
      "cell_type": "markdown",
      "metadata": {
        "id": "r2StRdvZQLIw",
        "colab_type": "text"
      },
      "source": [
        "[UpperTriangle] \n",
        "Write a NumPy program to extract the upper triangular part of a NumPy matrix.\n",
        "Sample Output:\n",
        "Original array:\n",
        "[[ 0 1 2]\n",
        "...........\n",
        "[15 16 17]]\n",
        "Extract upper triangular part of the said array:\n",
        "[0 1 2 4 5 8]\n",
        "Extract upper triangular part of the said array:\n",
        "[0 1 4]\n"
      ]
    },
    {
      "cell_type": "code",
      "metadata": {
        "id": "Pl9FcPwuQMZi",
        "colab_type": "code",
        "outputId": "78cd41fa-b7d1-4be3-b7df-63ff8ea8960f",
        "colab": {
          "base_uri": "https://localhost:8080/",
          "height": 238
        }
      },
      "source": [
        "\n",
        "import numpy as np\n",
        "num = np.arange(18)\n",
        "arr1 = np.reshape(num, [6, 3])\n",
        "print(\"Original array:\")\n",
        "print(arr1)\n",
        "result  = arr1[np.triu_indices(3)]\n",
        "print(\"\\nExtract upper triangular part of the said array:\")\n",
        "print(result)\n",
        "result  = arr1[np.triu_indices(2)]\n",
        "print(\"\\nExtract upper triangular part of the said array:\")\n",
        "print(result)\n"
      ],
      "execution_count": 0,
      "outputs": [
        {
          "output_type": "stream",
          "text": [
            "Original array:\n",
            "[[ 0  1  2]\n",
            " [ 3  4  5]\n",
            " [ 6  7  8]\n",
            " [ 9 10 11]\n",
            " [12 13 14]\n",
            " [15 16 17]]\n",
            "\n",
            "Extract upper triangular part of the said array:\n",
            "[0 1 2 4 5 8]\n",
            "\n",
            "Extract upper triangular part of the said array:\n",
            "[0 1 4]\n"
          ],
          "name": "stdout"
        }
      ]
    },
    {
      "cell_type": "markdown",
      "metadata": {
        "id": "xdQ9RA6CQrIp",
        "colab_type": "text"
      },
      "source": [
        "[Averages of Triplets] \n",
        "Write a NumPy program to create a new array which is the average of every consecutive triplet of elements of a given array.\n"
      ]
    },
    {
      "cell_type": "code",
      "metadata": {
        "id": "ltzWDCkjQsBE",
        "colab_type": "code",
        "outputId": "86915015-ef0a-4cb3-fb55-02f69841ae68",
        "colab": {
          "base_uri": "https://localhost:8080/",
          "height": 85
        }
      },
      "source": [
        "import numpy as np\n",
        "arr1 = np.array([1,2,3, 2,4,6, 1,2,12, 0,-12,6])\n",
        "print(\"Original array:\")\n",
        "print(arr1)\n",
        "result = np.mean(arr1.reshape(-1, 3), axis=1)\n",
        "print(\"Average of every consecutive triplet of elements of the said array:\")\n",
        "print(result)\n"
      ],
      "execution_count": 0,
      "outputs": [
        {
          "output_type": "stream",
          "text": [
            "Original array:\n",
            "[  1   2   3   2   4   6   1   2  12   0 -12   6]\n",
            "Average of every consecutive triplet of elements of the said array:\n",
            "[ 2.  4.  5. -2.]\n"
          ],
          "name": "stdout"
        }
      ]
    },
    {
      "cell_type": "markdown",
      "metadata": {
        "id": "-mUDlLOtRI3n",
        "colab_type": "text"
      },
      "source": [
        "[k-Smallest Elements] \n",
        "Write a NumPy program to find the k smallest values of a given NumPy array.\n"
      ]
    },
    {
      "cell_type": "code",
      "metadata": {
        "id": "lrVbz0vlRKDU",
        "colab_type": "code",
        "outputId": "119fdb70-896c-4786-91dd-3c11e3efed57",
        "colab": {
          "base_uri": "https://localhost:8080/",
          "height": 102
        }
      },
      "source": [
        "import numpy as np\n",
        "array1 = np.array([1, 7, 8, 2, 0.1, 3, 15, 2.5])\n",
        "print(\"Original arrays:\")\n",
        "print(array1)\n",
        "k = 4\n",
        "result = np.argpartition(array1, k)\n",
        "print(\"\\nk smallest values:\")\n",
        "print(array1[result[:k]])\n"
      ],
      "execution_count": 0,
      "outputs": [
        {
          "output_type": "stream",
          "text": [
            "Original arrays:\n",
            "[ 1.   7.   8.   2.   0.1  3.  15.   2.5]\n",
            "\n",
            "k smallest values:\n",
            "[0.1 1.  2.  2.5]\n"
          ],
          "name": "stdout"
        }
      ]
    },
    {
      "cell_type": "code",
      "metadata": {
        "id": "-IdkZyvjGfIM",
        "colab_type": "code",
        "outputId": "70cedfca-5fca-485f-bf87-9c38ed9e8e6f",
        "colab": {
          "base_uri": "https://localhost:8080/",
          "height": 68
        }
      },
      "source": [
        "list2=[[1,2,3],[4,5,6],[7,8,9]]\n",
        "b=np.array(list2)\n",
        "print(b)"
      ],
      "execution_count": 0,
      "outputs": [
        {
          "output_type": "stream",
          "text": [
            "[[1 2 3]\n",
            " [4 5 6]\n",
            " [7 8 9]]\n"
          ],
          "name": "stdout"
        }
      ]
    },
    {
      "cell_type": "code",
      "metadata": {
        "id": "ARTS6DF8t-1V",
        "colab_type": "code",
        "colab": {}
      },
      "source": [
        ""
      ],
      "execution_count": 0,
      "outputs": []
    },
    {
      "cell_type": "code",
      "metadata": {
        "id": "GJVkTLu-HD8m",
        "colab_type": "code",
        "outputId": "2a8cf31a-efc3-4086-936c-798dd2b21173",
        "colab": {
          "base_uri": "https://localhost:8080/",
          "height": 51
        }
      },
      "source": [
        "import sys\n",
        "list1=range(1000)\n",
        "print(sys.getsizeof(list1[0])*1000)\n",
        "array1=np.arange(1000)\n",
        "print(array1.size*array1.itemsize)"
      ],
      "execution_count": 0,
      "outputs": [
        {
          "output_type": "stream",
          "text": [
            "24000\n",
            "8000\n"
          ],
          "name": "stdout"
        }
      ]
    },
    {
      "cell_type": "code",
      "metadata": {
        "id": "746DkDPzIa3u",
        "colab_type": "code",
        "outputId": "e29ab08f-2100-40b3-9f5e-3152a0ed3533",
        "colab": {
          "base_uri": "https://localhost:8080/",
          "height": 51
        }
      },
      "source": [
        "import time\n",
        "size=100000\n",
        "list1=range(size)\n",
        "list2=range(size)\n",
        "start=time.time()\n",
        "result=[x+y for x,y in zip(list1,list2)]\n",
        "print(\"Time taken by python list:\",time.time()-start)\n",
        "array1=np.arange(size)\n",
        "array2=np.arange(size)\n",
        "start=time.time()\n",
        "result=array1+array2\n",
        "print(\"Time taken by Numpy array:\",time.time()-start)"
      ],
      "execution_count": 0,
      "outputs": [
        {
          "output_type": "stream",
          "text": [
            "Time taken by python list: 0.011341571807861328\n",
            "Time taken by Numpy array: 0.002135038375854492\n"
          ],
          "name": "stdout"
        }
      ]
    },
    {
      "cell_type": "code",
      "metadata": {
        "id": "mpjiKnIwKhjb",
        "colab_type": "code",
        "outputId": "d6ad7f37-89e6-420e-c635-341ebf59a96d",
        "colab": {
          "base_uri": "https://localhost:8080/",
          "height": 34
        }
      },
      "source": [
        "li = [1,2,3,4,5,6,7,8,9,10]\n",
        "\n",
        "def evenNum(li):\n",
        "\n",
        "    res_li = []\n",
        "\n",
        "    for i in range(len(li)):\n",
        "\n",
        "        if li[i] % 2 == 0:\n",
        "\n",
        "            res_li.append(li[i])\n",
        "\n",
        "    return res_li\n",
        "\n",
        "evenNum(li)\n",
        "\n"
      ],
      "execution_count": 0,
      "outputs": [
        {
          "output_type": "execute_result",
          "data": {
            "text/plain": [
              "[2, 4, 6, 8, 10]"
            ]
          },
          "metadata": {
            "tags": []
          },
          "execution_count": 8
        }
      ]
    },
    {
      "cell_type": "code",
      "metadata": {
        "id": "92LEJRAcWr5J",
        "colab_type": "code",
        "outputId": "c51a5267-8acf-4d10-b5e8-762891a33764",
        "colab": {
          "base_uri": "https://localhost:8080/",
          "height": 34
        }
      },
      "source": [
        "li = [1,2,3,4,5,6,7,8,9,10]\n",
        "\n",
        "res1_li = list(filter(lambda x : (x%2 != 0),li))\n",
        "\n",
        "print(res1_li)\n",
        "\n"
      ],
      "execution_count": 0,
      "outputs": [
        {
          "output_type": "stream",
          "text": [
            "[1, 3, 5, 7, 9]\n"
          ],
          "name": "stdout"
        }
      ]
    },
    {
      "cell_type": "code",
      "metadata": {
        "id": "QV8KiHbHWzOP",
        "colab_type": "code",
        "outputId": "8e9fd2ea-9be1-48f6-8804-f2e5d126ecd5",
        "colab": {
          "base_uri": "https://localhost:8080/",
          "height": 34
        }
      },
      "source": [
        "from functools import reduce\n",
        "\n",
        "l2 = [11,12,13,14,15,16,17,18,19,20]\n",
        "\n",
        "s1 = reduce((lambda x,y : x + y),l2)\n",
        "\n",
        "print(s1)\n",
        "\n"
      ],
      "execution_count": 0,
      "outputs": [
        {
          "output_type": "stream",
          "text": [
            "155\n"
          ],
          "name": "stdout"
        }
      ]
    },
    {
      "cell_type": "code",
      "metadata": {
        "id": "C2hD2gNgW828",
        "colab_type": "code",
        "outputId": "6155688c-015e-4a4d-a9f3-8b048658d0ef",
        "colab": {
          "base_uri": "https://localhost:8080/",
          "height": 34
        }
      },
      "source": [
        "d = lambda x,y,z : x<y<z\n",
        "\n",
        "print(d(11,12,13))\n",
        "\n"
      ],
      "execution_count": 0,
      "outputs": [
        {
          "output_type": "stream",
          "text": [
            "True\n"
          ],
          "name": "stdout"
        }
      ]
    },
    {
      "cell_type": "code",
      "metadata": {
        "id": "xsFSwq1dXBtv",
        "colab_type": "code",
        "outputId": "05c6a4f5-61a8-4b93-a2ce-67747f91737a",
        "colab": {
          "base_uri": "https://localhost:8080/",
          "height": 34
        }
      },
      "source": [
        "def square(x):\n",
        "\n",
        "    return x*x\n",
        "\n",
        "square(4561)\n",
        "\n"
      ],
      "execution_count": 0,
      "outputs": [
        {
          "output_type": "execute_result",
          "data": {
            "text/plain": [
              "20802721"
            ]
          },
          "metadata": {
            "tags": []
          },
          "execution_count": 12
        }
      ]
    },
    {
      "cell_type": "code",
      "metadata": {
        "id": "h6Q761PPXHzO",
        "colab_type": "code",
        "outputId": "080b8c9c-757a-45e7-aeec-a7e5c4334a5e",
        "colab": {
          "base_uri": "https://localhost:8080/",
          "height": 85
        }
      },
      "source": [
        "import numpy as np\n",
        "arr=np.arange(1,17).reshape(4,4)\n",
        "print(arr)"
      ],
      "execution_count": 0,
      "outputs": [
        {
          "output_type": "stream",
          "text": [
            "[[ 1  2  3  4]\n",
            " [ 5  6  7  8]\n",
            " [ 9 10 11 12]\n",
            " [13 14 15 16]]\n"
          ],
          "name": "stdout"
        }
      ]
    },
    {
      "cell_type": "code",
      "metadata": {
        "id": "O80Ll1F8JhIg",
        "colab_type": "code",
        "outputId": "749e859d-0af6-4453-dbb2-0d73e8805dbe",
        "colab": {
          "base_uri": "https://localhost:8080/",
          "height": 34
        }
      },
      "source": [
        "np.mean(arr)"
      ],
      "execution_count": 0,
      "outputs": [
        {
          "output_type": "execute_result",
          "data": {
            "text/plain": [
              "8.5"
            ]
          },
          "metadata": {
            "tags": []
          },
          "execution_count": 3
        }
      ]
    },
    {
      "cell_type": "code",
      "metadata": {
        "id": "AK0QL3y4JtlU",
        "colab_type": "code",
        "outputId": "afff9edf-de6f-4b8c-e691-813eb025429b",
        "colab": {
          "base_uri": "https://localhost:8080/",
          "height": 34
        }
      },
      "source": [
        "np.std(arr)"
      ],
      "execution_count": 0,
      "outputs": [
        {
          "output_type": "execute_result",
          "data": {
            "text/plain": [
              "4.6097722286464435"
            ]
          },
          "metadata": {
            "tags": []
          },
          "execution_count": 4
        }
      ]
    },
    {
      "cell_type": "code",
      "metadata": {
        "id": "J_T0EqOJJxdD",
        "colab_type": "code",
        "outputId": "45cf6a22-ef59-42fc-ee14-b41db947737d",
        "colab": {
          "base_uri": "https://localhost:8080/",
          "height": 51
        }
      },
      "source": [
        "print(arr.min())\n",
        "print(arr.max())"
      ],
      "execution_count": 0,
      "outputs": [
        {
          "output_type": "stream",
          "text": [
            "1\n",
            "16\n"
          ],
          "name": "stdout"
        }
      ]
    },
    {
      "cell_type": "code",
      "metadata": {
        "id": "in3f5P_KLUGK",
        "colab_type": "code",
        "outputId": "0e3417d1-0d89-4a73-eaa5-9c65aa445a46",
        "colab": {
          "base_uri": "https://localhost:8080/",
          "height": 51
        }
      },
      "source": [
        "from numpy import random\n",
        "print(random.randint(1,100))\n",
        "print(random.rand())"
      ],
      "execution_count": 0,
      "outputs": [
        {
          "output_type": "stream",
          "text": [
            "45\n",
            "0.3616809932245033\n"
          ],
          "name": "stdout"
        }
      ]
    },
    {
      "cell_type": "code",
      "metadata": {
        "id": "GvpK7OoPLris",
        "colab_type": "code",
        "outputId": "920e8389-3d61-4896-cc2c-7e3cf9efc4eb",
        "colab": {
          "base_uri": "https://localhost:8080/",
          "height": 85
        }
      },
      "source": [
        "print(random.randint(100,size=3))\n",
        "print(random.randint(100,size=(3,3)))"
      ],
      "execution_count": 0,
      "outputs": [
        {
          "output_type": "stream",
          "text": [
            "[88 35 19]\n",
            "[[75 39 35]\n",
            " [38 49 17]\n",
            " [10 77 31]]\n"
          ],
          "name": "stdout"
        }
      ]
    },
    {
      "cell_type": "code",
      "metadata": {
        "id": "YAfL1-AoL3qD",
        "colab_type": "code",
        "outputId": "7bf9b0de-0cb3-441a-8197-1e28a5e0bf99",
        "colab": {
          "base_uri": "https://localhost:8080/",
          "height": 85
        }
      },
      "source": [
        "print(random.rand())\n",
        "print(random.rand(3)*100)\n",
        "print(random.rand(2,3))\n"
      ],
      "execution_count": 0,
      "outputs": [
        {
          "output_type": "stream",
          "text": [
            "0.3619931519807471\n",
            "[82.94672147 10.92834998 87.56129113]\n",
            "[[0.57658665 0.22625111 0.91926477]\n",
            " [0.04615514 0.15637242 0.9485943 ]]\n"
          ],
          "name": "stdout"
        }
      ]
    },
    {
      "cell_type": "code",
      "metadata": {
        "id": "7ij5QHtKMWPi",
        "colab_type": "code",
        "outputId": "17827e82-cd71-4331-af22-7f99e20a4de5",
        "colab": {
          "base_uri": "https://localhost:8080/",
          "height": 34
        }
      },
      "source": [
        "arr1=np.array([1,2,3,4,5,6])\n",
        "random.choice(arr1)"
      ],
      "execution_count": 0,
      "outputs": [
        {
          "output_type": "execute_result",
          "data": {
            "text/plain": [
              "1"
            ]
          },
          "metadata": {
            "tags": []
          },
          "execution_count": 12
        }
      ]
    },
    {
      "cell_type": "code",
      "metadata": {
        "id": "jrFajtl5NshF",
        "colab_type": "code",
        "colab": {}
      },
      "source": [
        ""
      ],
      "execution_count": 0,
      "outputs": []
    },
    {
      "cell_type": "code",
      "metadata": {
        "id": "Kwa_Su65OoB6",
        "colab_type": "code",
        "outputId": "bb42c042-9d93-4e24-c908-b64a323bdb30",
        "colab": {
          "base_uri": "https://localhost:8080/",
          "height": 68
        }
      },
      "source": [
        "random.choice([1,2,3,4,5,6],size=(3,3))"
      ],
      "execution_count": 0,
      "outputs": [
        {
          "output_type": "execute_result",
          "data": {
            "text/plain": [
              "array([[1, 5, 5],\n",
              "       [5, 4, 5],\n",
              "       [2, 3, 3]])"
            ]
          },
          "metadata": {
            "tags": []
          },
          "execution_count": 13
        }
      ]
    },
    {
      "cell_type": "code",
      "metadata": {
        "id": "x8MEVWAyO0_D",
        "colab_type": "code",
        "colab": {}
      },
      "source": [
        ""
      ],
      "execution_count": 0,
      "outputs": []
    }
  ]
}