{
  "nbformat": 4,
  "nbformat_minor": 0,
  "metadata": {
    "colab": {
      "name": "Untitled3.ipynb",
      "provenance": []
    },
    "kernelspec": {
      "name": "python3",
      "display_name": "Python 3"
    }
  },
  "cells": [
    {
      "cell_type": "code",
      "metadata": {
        "id": "gBrdjxUYIkrF",
        "colab_type": "code",
        "colab": {
          "base_uri": "https://localhost:8080/",
          "height": 51
        },
        "outputId": "cad670e1-521c-420d-e76a-18872a9d401c"
      },
      "source": [
        "def func(x) :\n",
        "    print(x)\n",
        "\n",
        "func(10)\n",
        "func(20)"
      ],
      "execution_count": null,
      "outputs": [
        {
          "output_type": "stream",
          "text": [
            "10\n",
            "20\n"
          ],
          "name": "stdout"
        }
      ]
    },
    {
      "cell_type": "code",
      "metadata": {
        "id": "rQhrYqfWQ5P1",
        "colab_type": "code",
        "colab": {
          "base_uri": "https://localhost:8080/",
          "height": 34
        },
        "outputId": "3eee31c5-42a0-4289-adf5-adcd66acb784"
      },
      "source": [
        "def addtwo(a, b):\n",
        "    added = a + b\n",
        "    return a\n",
        "\n",
        "x = addtwo(2, 7)\n",
        "print(x)"
      ],
      "execution_count": null,
      "outputs": [
        {
          "output_type": "stream",
          "text": [
            "2\n"
          ],
          "name": "stdout"
        }
      ]
    },
    {
      "cell_type": "code",
      "metadata": {
        "id": "sCiNzZe-Ralq",
        "colab_type": "code",
        "colab": {
          "base_uri": "https://localhost:8080/",
          "height": 68
        },
        "outputId": "bc4adc60-b400-49e5-b3f6-8af766b3fd3a"
      },
      "source": [
        "def computepay(h,r):\n",
        "    if h<=40:\n",
        "        pay=h*r\n",
        "    elif h>40:\n",
        "        pay=40*r+(h-40)*r*1.5\n",
        "        return pay    \n",
        "\n",
        "hrs = input(\"Enter Hours:\")\n",
        "h = float(hrs)\n",
        "rate = input(\"Enter rate:\")\n",
        "r = float(rate)\n",
        "p = computepay(h,r)\n",
        "print(p)    "
      ],
      "execution_count": null,
      "outputs": [
        {
          "output_type": "stream",
          "text": [
            "Enter Hours:40\n",
            "Enter rate:10.25\n",
            "None\n"
          ],
          "name": "stdout"
        }
      ]
    },
    {
      "cell_type": "code",
      "metadata": {
        "id": "wja3EoehYe4y",
        "colab_type": "code",
        "colab": {
          "base_uri": "https://localhost:8080/",
          "height": 68
        },
        "outputId": "dea0381e-a695-4c6c-d108-f0e979e1ef4c"
      },
      "source": [
        "hrs = input(\"Enter Hours:\")\n",
        "h = float(hrs)\n",
        "rate = input(\"Enter rate:\")\n",
        "r = float(rate)\n",
        "\n",
        "def computepay(h,r):\n",
        "  if h<=40:\n",
        "    pay=hr\n",
        "  elif h>40:\n",
        "    pay=40*r+(h-40)*r*1.5\n",
        "  return(pay)\n",
        "p = computepay(h,r)\n",
        "print('Pay',p)  "
      ],
      "execution_count": null,
      "outputs": [
        {
          "output_type": "stream",
          "text": [
            "Enter Hours:45\n",
            "Enter rate:10.50\n",
            "Pay 498.75\n"
          ],
          "name": "stdout"
        }
      ]
    },
    {
      "cell_type": "code",
      "metadata": {
        "id": "E39OZAb12dKD",
        "colab_type": "code",
        "colab": {
          "base_uri": "https://localhost:8080/",
          "height": 34
        },
        "outputId": "b84ae7ae-0ff3-4045-8581-f9e6320b2f4c"
      },
      "source": [
        "tot = 0 \n",
        "for i in [5, 4, 3, 2, 1] :\n",
        "    tot = tot + 1\n",
        "print(tot)"
      ],
      "execution_count": null,
      "outputs": [
        {
          "output_type": "stream",
          "text": [
            "5\n"
          ],
          "name": "stdout"
        }
      ]
    },
    {
      "cell_type": "code",
      "metadata": {
        "id": "PkgOh1l3AnIM",
        "colab_type": "code",
        "colab": {
          "base_uri": "https://localhost:8080/",
          "height": 85
        },
        "outputId": "e72a53d7-a805-4934-c3f0-cee32c46f3f2"
      },
      "source": [
        "friends = ['Joseph', 'Glenn', 'Sally']\n",
        "for friend in friends :\n",
        "     print('Happy New Year:',  friend)\n",
        "print('Done!')"
      ],
      "execution_count": null,
      "outputs": [
        {
          "output_type": "stream",
          "text": [
            "Happy New Year: Joseph\n",
            "Happy New Year: Glenn\n",
            "Happy New Year: Sally\n",
            "Done!\n"
          ],
          "name": "stdout"
        }
      ]
    },
    {
      "cell_type": "code",
      "metadata": {
        "id": "Dh-_0ssvA6Jd",
        "colab_type": "code",
        "colab": {
          "base_uri": "https://localhost:8080/",
          "height": 170
        },
        "outputId": "88b65f8e-158f-4af6-965d-476b31ddabc9"
      },
      "source": [
        "num = 0\n",
        "largest = -1\n",
        "smallest = None\n",
        "while True:\n",
        "    num = input(\"Enter a number: \")\n",
        "    if num == \"done\" :\n",
        "        break\n",
        "    try :\n",
        "        numb = int(num)\n",
        "    except :\n",
        "        print('Invalid input')\n",
        "    if smallest is None :\n",
        "        smallest = numb\n",
        "    elif numb < smallest :\n",
        "        smallest = numb\n",
        "    elif numb > largest :\n",
        "        largest = numb\n",
        "print(\"Maximum is\", largest)\n",
        "print(\"Minimum is\", smallest)"
      ],
      "execution_count": null,
      "outputs": [
        {
          "output_type": "stream",
          "text": [
            "Enter a number: 7\n",
            "Enter a number: 2\n",
            "Enter a number: bob\n",
            "Invalid input\n",
            "Enter a number: 10\n",
            "Enter a number: 4\n",
            "Enter a number: done\n",
            "Maximum is 10\n",
            "Minimum is 2\n"
          ],
          "name": "stdout"
        }
      ]
    },
    {
      "cell_type": "code",
      "metadata": {
        "id": "m7SWTMvlCtb6",
        "colab_type": "code",
        "colab": {}
      },
      "source": [
        "num1 =1.5\n",
        "num2= 2.5\n",
        "sum= float(num1) + float(num2)\n",
        "print(\"the sum is\" )"
      ],
      "execution_count": null,
      "outputs": []
    }
  ]
}